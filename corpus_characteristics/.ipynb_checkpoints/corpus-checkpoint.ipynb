{
 "cells": [
  {
   "cell_type": "markdown",
   "id": "0daf62e0",
   "metadata": {},
   "source": [
    "# Examine the characteristics of RoBuster"
   ]
  },
  {
   "cell_type": "code",
   "execution_count": 15,
   "id": "8adbff36",
   "metadata": {},
   "outputs": [],
   "source": [
    "included_studies = [\n",
    "    \"Hassett_2020_upright_Time_Hilfiker_with_Protocol\",\n",
    "    \"Mills_2019_VeryLowDensityLipoProtein_Hilfiker_with_Protocol\",\n",
    "    \"Wyke_2019_steps_per_day_Hilfiker_with_Protocol\",\n",
    "    \"Thorndike_2014_mean_steps_day_Hilfiker\",\n",
    "    \"Cameron_2013_Frailty_Hilfiker_with_Protocol\",\n",
    "    \"Taylor_2016_CPG_12months_Hilfiker_with_Protocol\",\n",
    "    \"Myer_2018_Infant_Mortality_Hilfiker_with_Protocol\",\n",
    "    \"Lockman_2012_death_Hilfiker_withProtocol\",\n",
    "    \"Stuck_2015_allcausemortality_Hilfiker_withProtocol\",\n",
    "    \"Gallagher_2014_Mortality_Hilfiker_withProtocol\",\n",
    "    \"Tanaka_2020_carotid_atherosclerosis_Hilfiker_withProtocol\",\n",
    "    \"Oyamo_2016_carotidArteryIMT24mo_Hilfiker_withProtocol\",\n",
    "    \"Zhang_2020_frequencyHIVTesting_Hilfiker_withProtocol\",\n",
    "    \"Mohold_2012_peakOxygenUptake_Hilfiker_withProtocol\",\n",
    "    \"Hardeman_2020_activity_volume_Hilfiker_withProtocol\",\n",
    "    \"Garnaes_2016_GWG_Hilfiker_with_Protocol\",\n",
    "    \"Gajados_2010_8hWithoutOxygen_Hilfiker_withProtocol\",\n",
    "    \"Menant_2018_DizzinessHandicapInventory_Hilfiker_Protocol\",\n",
    "    \"Perlman_2012_WOMAC_Total_8weeks_Hilfiker_with_Protocol\",\n",
    "    \"Lawlor_2018_ADAS-Cog12_Hilfiker_with_Protocol\",\n",
    "    \"Barker_2019_Falls_per_PersonYear_Hilfiker_withProtocol\",\n",
    "    \"Bjerre_2019_QoL_Hilfiker_withProtocol\",\n",
    "    \"Pasha_2013_mean_perinatal_mortality_IAA_Hilfiker_Sattelmayer_with_Protocol\",\n",
    "    \"Darlow_2019_Roland_Morris_Disability_Q_sixMonths_IAA_Hilfiker_Sattelmayer_with_Protocol\",\n",
    "    \"Lagro_2022_HealthLiveBirth_IAA_Hilfiker_Sattelmayer_with_Protocol\",\n",
    "    \"Osteras_2019_Patient_Reporting_Quality_of_Care_6months_IAA_Hilfiker_Sattelmayer_with_Protocol\",\n",
    "    \"Rossetti_2020_RiskRatio_Death_sixmonths_Hilfiker_with_Protocol\",\n",
    "    \"Friedli_2020_mortality_within_180days_IAA_Hilfiker_Sattelmayer_with_Protocol\",\n",
    "    \"Becker_2020_restriction_muscle_strength_at_3rdFollowup_up_IAA_Hilfiker_Sattelmayer_no_protocol_found\",\n",
    "    \"An_2020_VO2peak_at_6months_IAA_Hilfiker_Sattelmayer_with_Protocol\",\n",
    "    \"Roman_2016_TUG_Hilfiker_with_Protocol\",\n",
    "    \"Tagalidou_2019_Coping_Humour_Scale_Hilfiker_with_Protocol\",\n",
    "    \"Solomons_2020_VISA_A_12months_IAA_Hilfiker_Sattelmayer_with_Protocol\",\n",
    "    \"Raeissadat_2020_VAS_Pain_12month_Hilfiker_with_Protocol\",\n",
    "    \"Eskilsson_2017_Burnout_T2_Hilfiker_with_Protocol\",\n",
    "    \"Ahmadi_2018_Craving_Score_Day_5_Hilfiker_with_Protocol\",\n",
    "    \"Bai_2020_GAD_7_at_3monts_IAA_Hilfiker_Sattelmayer_with_Protocol\",\n",
    "    \"Bierre_2019_BMD_Hilfiker_with_Protocol\",\n",
    "    \"Liu_2018_SPPB_Hilfiker_with_Protocol\",\n",
    "    \"Rodrigo-Claverol_2019_WOMAC_Post_Hilfiker_No_Protocol\",\n",
    "    \"Gleason_2015_3ms_48months_with_protocol\"\n",
    "]"
   ]
  },
  {
   "cell_type": "code",
   "execution_count": 16,
   "id": "baa9bb42",
   "metadata": {},
   "outputs": [],
   "source": [
    "included_studies = [item.lower() for item in included_studies]"
   ]
  },
  {
   "cell_type": "code",
   "execution_count": 17,
   "id": "3b1c4fec",
   "metadata": {},
   "outputs": [
    {
     "data": {
      "text/plain": [
       "41"
      ]
     },
     "execution_count": 17,
     "metadata": {},
     "output_type": "execute_result"
    }
   ],
   "source": [
    "len(set(included_studies))"
   ]
  },
  {
   "cell_type": "code",
   "execution_count": 18,
   "id": "050d9a1e",
   "metadata": {},
   "outputs": [],
   "source": [
    "# import \n",
    "import csv\n",
    "import pandas as pd\n",
    "import numpy as np\n",
    "import seaborn as sns\n",
    "import matplotlib.pyplot as plt\n",
    "from collections import Counter\n",
    "\n",
    "# String processing libraries\n",
    "from unidecode import unidecode"
   ]
  },
  {
   "cell_type": "code",
   "execution_count": 19,
   "id": "8e7017af",
   "metadata": {},
   "outputs": [],
   "source": [
    "corpus_file = '/mnt/nas2/data/Projects/PAWLS/export.token.2023-11-08.csv'"
   ]
  },
  {
   "cell_type": "code",
   "execution_count": 20,
   "id": "7d58f412",
   "metadata": {},
   "outputs": [],
   "source": [
    "df = pd.read_csv (corpus_file, low_memory=False) # Román_2016_TUG_Hilfiker_with_Protocol (is in df)"
   ]
  },
  {
   "cell_type": "code",
   "execution_count": 21,
   "id": "324bae50",
   "metadata": {},
   "outputs": [
    {
     "data": {
      "text/html": [
       "<div>\n",
       "<style scoped>\n",
       "    .dataframe tbody tr th:only-of-type {\n",
       "        vertical-align: middle;\n",
       "    }\n",
       "\n",
       "    .dataframe tbody tr th {\n",
       "        vertical-align: top;\n",
       "    }\n",
       "\n",
       "    .dataframe thead th {\n",
       "        text-align: right;\n",
       "    }\n",
       "</style>\n",
       "<table border=\"1\" class=\"dataframe\">\n",
       "  <thead>\n",
       "    <tr style=\"text-align: right;\">\n",
       "      <th></th>\n",
       "      <th>pdf</th>\n",
       "      <th>page_index</th>\n",
       "      <th>index</th>\n",
       "      <th>text</th>\n",
       "      <th>x1</th>\n",
       "      <th>y1</th>\n",
       "      <th>x2</th>\n",
       "      <th>y2</th>\n",
       "      <th>roger.hilfiker@proton.me</th>\n",
       "    </tr>\n",
       "  </thead>\n",
       "  <tbody>\n",
       "    <tr>\n",
       "      <th>0</th>\n",
       "      <td>Zoheiry_2017_Stair_Climb_Hilfiker</td>\n",
       "      <td>0</td>\n",
       "      <td>0</td>\n",
       "      <td>2201</td>\n",
       "      <td>513.4753</td>\n",
       "      <td>795.4634</td>\n",
       "      <td>532.9153</td>\n",
       "      <td>805.4634</td>\n",
       "      <td>NaN</td>\n",
       "    </tr>\n",
       "    <tr>\n",
       "      <th>1</th>\n",
       "      <td>Zoheiry_2017_Stair_Climb_Hilfiker</td>\n",
       "      <td>0</td>\n",
       "      <td>1</td>\n",
       "      <td>Original</td>\n",
       "      <td>62.3622</td>\n",
       "      <td>146.5782</td>\n",
       "      <td>102.8262</td>\n",
       "      <td>158.5782</td>\n",
       "      <td>NaN</td>\n",
       "    </tr>\n",
       "    <tr>\n",
       "      <th>2</th>\n",
       "      <td>Zoheiry_2017_Stair_Climb_Hilfiker</td>\n",
       "      <td>0</td>\n",
       "      <td>2</td>\n",
       "      <td>Article</td>\n",
       "      <td>105.8262</td>\n",
       "      <td>146.5782</td>\n",
       "      <td>139.3062</td>\n",
       "      <td>158.5782</td>\n",
       "      <td>NaN</td>\n",
       "    </tr>\n",
       "    <tr>\n",
       "      <th>3</th>\n",
       "      <td>Zoheiry_2017_Stair_Climb_Hilfiker</td>\n",
       "      <td>0</td>\n",
       "      <td>3</td>\n",
       "      <td>Effect</td>\n",
       "      <td>62.3622</td>\n",
       "      <td>169.4811</td>\n",
       "      <td>105.8482</td>\n",
       "      <td>186.4811</td>\n",
       "      <td>NaN</td>\n",
       "    </tr>\n",
       "    <tr>\n",
       "      <th>4</th>\n",
       "      <td>Zoheiry_2017_Stair_Climb_Hilfiker</td>\n",
       "      <td>0</td>\n",
       "      <td>4</td>\n",
       "      <td>of</td>\n",
       "      <td>110.0982</td>\n",
       "      <td>169.4811</td>\n",
       "      <td>125.9762</td>\n",
       "      <td>186.4811</td>\n",
       "      <td>NaN</td>\n",
       "    </tr>\n",
       "  </tbody>\n",
       "</table>\n",
       "</div>"
      ],
      "text/plain": [
       "                                 pdf  page_index  index      text        x1  \\\n",
       "0  Zoheiry_2017_Stair_Climb_Hilfiker           0      0      2201  513.4753   \n",
       "1  Zoheiry_2017_Stair_Climb_Hilfiker           0      1  Original   62.3622   \n",
       "2  Zoheiry_2017_Stair_Climb_Hilfiker           0      2   Article  105.8262   \n",
       "3  Zoheiry_2017_Stair_Climb_Hilfiker           0      3    Effect   62.3622   \n",
       "4  Zoheiry_2017_Stair_Climb_Hilfiker           0      4        of  110.0982   \n",
       "\n",
       "         y1        x2        y2 roger.hilfiker@proton.me  \n",
       "0  795.4634  532.9153  805.4634                      NaN  \n",
       "1  146.5782  102.8262  158.5782                      NaN  \n",
       "2  146.5782  139.3062  158.5782                      NaN  \n",
       "3  169.4811  105.8482  186.4811                      NaN  \n",
       "4  169.4811  125.9762  186.4811                      NaN  "
      ]
     },
     "execution_count": 21,
     "metadata": {},
     "output_type": "execute_result"
    }
   ],
   "source": [
    "df.head()"
   ]
  },
  {
   "cell_type": "code",
   "execution_count": 22,
   "id": "d768d84d",
   "metadata": {},
   "outputs": [
    {
     "name": "stdout",
     "output_type": "stream",
     "text": [
      "Kudos_2019_weight_Loss_Hilfiker_with_Protocol\n",
      "Condessa_2013._Mechanical_ventilation_period_Hilfiker_with_Protocol\n",
      "Jeon_2018_FRT_Hilfiker\n",
      "Scheer_2021_VO2peak_12weeks_Hilfiker_with_Protocol\n",
      "Deedwania_2020_primary_endpoint_DeathCombi_IAA_Hilfiker_Sattelmayer_with_Protocol\n",
      "Dangour_2011_incidence_Pneumonia_Hilfiker_with_Protocol\n",
      "Felaya_2022_Sternal_Separation_Week4_Hilfiker_with_Protocol\n",
      "Pan_2016_VAS_Hilfiker\n",
      "Nieman_2014_RPE_Hilfiker_withProtocol\n",
      "Or_2020_Self_Efficacy_24_weeks_with_Protocol\n",
      "Riel_2019_Plantar_fascia_thickness_Hilfiker_with_Protocol\n",
      "Remsik_2019_stroke_impact_scale_follow_up_Hilfiker_with_Protocol\n",
      "Martin-Willett_2020_vlume_left_precuneus_post_IAA_Hilfiker_Sattelmayer_with_Protocol\n",
      "Atici_2017_VASPostTreatment_hilfiker_No_Protocol\n",
      "Cannata-Andía_2022_Death_Rate_IAA_Hilfiker_Sattelmayer_with_Protocol\n",
      "Chedov_2017_Ramsay_Sedation_Score_24hous_Hilfiker_No_Protocol\n",
      "Jourdain_2013_death_KM_Hilfiker_withProtocol\n",
      "Kamal_2020_death_at_six_months_Hilfiker_with_protocol\n",
      "Paganoni_2020_DeathTracheostomyOrHospitalisation_at_follow_up_IAA_Hilfiker_Sattelmayer_with_Protocol\n",
      "Shin_2020_Pain_VAS_during_NEER_at_3weeks_IAA_Hilfiker_Sattelmayer_with_Protocol\n",
      "Harris_2017_stepCount_Hilfiker_withProtocl\n",
      "Merom_2016_PPA_Hilfiker_with_Protocol\n",
      "Stoerkel_2018_Anxiety_Follow_up_Hilfiker_with_Protocol\n",
      "lombard_2016_weigth_change_Hilfiker_with_protocol\n",
      "Bednarski_2020_EQ5D_POD30_Hilfiker_with_protocol\n",
      "Xu_2018_KSS_Hilfiker_No_Protocol\n",
      "Slater_2013_BackPainBeliefs_Hilfiker_withProtocol\n",
      "Goel_2020_Mortality_Hazard_Ratio_1year_IAA_Hilfiker_Sattelmayer_with_Protocol\n",
      "Alayat_2020_Flexion_posttreatment_IAA_Hilfiker_Sattelmayer__no_protocol_found\n",
      "Kc_2019_intrapartum-related_mortality_Hilfiker_withProtocol\n",
      "Ren_2020_Mortality_at_Discharge_Hilfiker_with_Protocol\n",
      "Li_2019_BMI_Hilfiker_with_Protocol\n",
      "Zoheiry_2017_Stair_Climb_Hilfiker\n",
      "McDermott_2020_BMI_Hilfiker_with_protocol\n",
      "Harvey_2016_Goal_Attainment_Scale_Week26_Hilfiker_with_Protocol\n",
      "Li_2016_neuropathy disability score_Hilfiker_with_Protocol\n",
      "Conelea_2017_MASC_PT_Hilfiker_with_Protocol\n",
      "Robled-Coloni_2012_CES_D_3months_Hilfiker_with_Protocol\n",
      "Newman_2016_CVD_Events_Hilfiker_with_Protocols\n",
      "Merom_2016_falls_with_protocol\n",
      "Jacobsen_2020_pain_timepoint3_Hilfiker_with_Protocol\n"
     ]
    }
   ],
   "source": [
    "ann_studies = []\n",
    "for i in list(set( list(df['pdf']) )):\n",
    "    i_stripped = unidecode(i)\n",
    "    if i_stripped.lower() in included_studies:\n",
    "        ann_studies.append( i )\n",
    "    else:\n",
    "        print(i)"
   ]
  },
  {
   "cell_type": "code",
   "execution_count": 23,
   "id": "88d6dd61",
   "metadata": {},
   "outputs": [],
   "source": [
    "# Filter out studies that are not a part of RoBuster\n",
    "\n",
    "df_pdf_filtered = df[df['pdf'].isin(ann_studies)]"
   ]
  },
  {
   "cell_type": "code",
   "execution_count": 24,
   "id": "5d5de42d",
   "metadata": {},
   "outputs": [
    {
     "data": {
      "text/plain": [
       "41"
      ]
     },
     "execution_count": 24,
     "metadata": {},
     "output_type": "execute_result"
    }
   ],
   "source": [
    "len(ann_studies)"
   ]
  },
  {
   "cell_type": "code",
   "execution_count": null,
   "id": "46502c63",
   "metadata": {},
   "outputs": [],
   "source": [
    "# Filter out the out-of-span annotations (or NaN)\n",
    "\n",
    "df_filtered = df_pdf_filtered[df_pdf_filtered['roger.hilfiker@proton.me'].notna()].copy()"
   ]
  },
  {
   "cell_type": "code",
   "execution_count": null,
   "id": "720fb50b",
   "metadata": {},
   "outputs": [],
   "source": [
    "df_filtered.head()"
   ]
  },
  {
   "cell_type": "code",
   "execution_count": null,
   "id": "a450f4c0",
   "metadata": {},
   "outputs": [],
   "source": [
    "# Total number of annotated tokens\n",
    "\n",
    "print(df_filtered.shape[0])"
   ]
  },
  {
   "cell_type": "code",
   "execution_count": null,
   "id": "24fbd281",
   "metadata": {},
   "outputs": [],
   "source": [
    "df_filtered['sq'] = df_filtered['roger.hilfiker@proton.me'].str[:3]"
   ]
  },
  {
   "cell_type": "code",
   "execution_count": null,
   "id": "139eb88e",
   "metadata": {},
   "outputs": [],
   "source": [
    "df_filtered.head()"
   ]
  },
  {
   "cell_type": "code",
   "execution_count": null,
   "id": "16b4a569",
   "metadata": {},
   "outputs": [],
   "source": [
    "item_counts = df_filtered['sq'].value_counts()"
   ]
  },
  {
   "cell_type": "code",
   "execution_count": null,
   "id": "cdb1022f",
   "metadata": {},
   "outputs": [],
   "source": [
    "len(list(set(df_filtered['pdf'])))"
   ]
  },
  {
   "cell_type": "code",
   "execution_count": null,
   "id": "64a8f320",
   "metadata": {},
   "outputs": [],
   "source": [
    "item_counts"
   ]
  },
  {
   "cell_type": "code",
   "execution_count": null,
   "id": "6ba42f08",
   "metadata": {},
   "outputs": [],
   "source": [
    "# Set the style\n",
    "sns.set(style='whitegrid')\n",
    "\n",
    "# Create a histogram using seaborn\n",
    "plt.figure(figsize=(10, 6))\n",
    "sns.barplot(x=item_counts.index, y=item_counts.values, palette='viridis')\n",
    "\n",
    "plt.xlabel('Signalling question')\n",
    "plt.ylabel('Annotation token count')\n",
    "plt.title(f'Distribution of Annotation Counts for all Signaling Questions in RoBuster.')\n",
    "plt.xticks(rotation=45)\n",
    "\n",
    "plt.tight_layout()\n",
    "\n",
    "# Save the plot as an image in a folder\n",
    "output_folder = 'images'  # Change to your desired folder path\n",
    "output_filename = 'sq_ann_raw_counts.png'  # Change to your desired file name\n",
    "output_path = f'{output_folder}/{output_filename}'\n",
    "\n",
    "plt.savefig(output_path)\n",
    "\n",
    "plt.show()"
   ]
  },
  {
   "cell_type": "code",
   "execution_count": null,
   "id": "302fb772",
   "metadata": {},
   "outputs": [],
   "source": [
    "# Create a dictionary to store frequencies\n",
    "frequency_dict = {}\n",
    "\n",
    "# Calculate and store the frequency for each item\n",
    "for item, count in item_counts.items():\n",
    "    frequency = count / df_filtered.shape[0]\n",
    "    frequency_dict[item] = frequency"
   ]
  },
  {
   "cell_type": "code",
   "execution_count": null,
   "id": "4996ee5c",
   "metadata": {},
   "outputs": [],
   "source": [
    "# Convert the dictionary to a DataFrame for plotting\n",
    "frequency_df = pd.DataFrame(frequency_dict.items(), columns=['Items', 'Frequency'])\n",
    "\n",
    "# Set seaborn style\n",
    "sns.set(style='whitegrid')\n",
    "\n",
    "# Create a bar plot using seaborn\n",
    "plt.figure(figsize=(10, 6))\n",
    "sns.barplot(x='Items', y='Frequency', data=frequency_df, palette='viridis')\n",
    "\n",
    "plt.xlabel('Signalling question')\n",
    "plt.ylabel('Annotation token frequency')\n",
    "plt.title(f'Histogram of Annotation frequency for Each Signalling Question')\n",
    "plt.xticks(rotation=45)\n",
    "plt.tight_layout()\n",
    "\n",
    "plt.show()"
   ]
  },
  {
   "cell_type": "markdown",
   "id": "9d0ed45f",
   "metadata": {},
   "source": [
    "## Good vs. Bad: How are the biases in our corpus?"
   ]
  },
  {
   "cell_type": "code",
   "execution_count": null,
   "id": "2b8e0336",
   "metadata": {},
   "outputs": [],
   "source": [
    "df_filtered['judgment'] = df_filtered['roger.hilfiker@proton.me'].str.split('_').str[-1]\n",
    "df_filtered['sq'] = df_filtered['roger.hilfiker@proton.me'].str[0:3]"
   ]
  },
  {
   "cell_type": "code",
   "execution_count": null,
   "id": "4b3ba10f",
   "metadata": {},
   "outputs": [],
   "source": [
    "grouped_pdf = df_filtered.groupby('pdf')"
   ]
  },
  {
   "cell_type": "code",
   "execution_count": null,
   "id": "abc9043d",
   "metadata": {},
   "outputs": [],
   "source": [
    "# Initialize a dictionary with the question numbers and set values to 0, then print it in one line\n",
    "central_dict = {\"1_1\": [], \"1_2\": [], \"1_3\": [], \"2_1\": [], \"2_2\": [], \"2_3\": [], \"2_4\": [], \"2_5\": [], \"2_6\": [], \"2_7\": [], \"3_1\": [], \"3_2\": [], \"3_3\": [], \"3_4\": [], \"3_5\": [], \"4_1\": [], \"4_2\": [], \"4_3\": [], \"4_4\": [], \"5_1\": [], \"5_2\": [], \"5_3\": []}\n",
    "\n",
    "for i, (category, grouped_data) in enumerate(grouped_pdf):\n",
    "\n",
    "    # get judgments for all signalling questions\n",
    "    gpd_sq_data = grouped_data.groupby('sq')\n",
    "    \n",
    "    # Initialize a dictionary with the question numbers and set values to 0, then print it in one line\n",
    "    temp_dict = {\"1_1\": 'Information', \"1_2\": 'Information', \"1_3\": 'Information',\n",
    "                 \"2_1\": 'Information', \"2_2\": 'Information', \"2_3\": 'Information', \"2_4\": 'Information', \"2_5\": 'Information', \"2_6\": 'Information', \"2_7\": 'Information', \n",
    "                 \"3_1\": 'Information', \"3_2\": 'Information', \"3_3\": 'Information', \"3_4\": 'Information', \"3_5\": 'Information',\n",
    "                 \"4_1\": 'Information', \"4_2\": 'Information', \"4_3\": 'Information', \"4_4\": 'Information',\n",
    "                 \"5_1\": 'Information', \"5_2\": 'Information', \"5_3\": 'Information'}\n",
    "    \n",
    "    # Add the response judgments to the temp_dict\n",
    "    for j, (sq, grouped_sq) in enumerate(gpd_sq_data):\n",
    "        if sq in temp_dict:\n",
    "            temp_dict[sq] = list( set(list(grouped_sq['judgment'])) )[0]\n",
    "            \n",
    "    for k,v in temp_dict.items():\n",
    "        central_dict[k].append( v )"
   ]
  },
  {
   "cell_type": "code",
   "execution_count": null,
   "id": "b838290b",
   "metadata": {},
   "outputs": [],
   "source": [
    "# get count information from the central_dict and plot...\n",
    "central_count_dict = dict()\n",
    "for k, v in central_dict.items():\n",
    "    central_count_dict[k] = dict(Counter(v))"
   ]
  },
  {
   "cell_type": "code",
   "execution_count": null,
   "id": "11436617",
   "metadata": {},
   "outputs": [],
   "source": [
    "# Extract the keys and counts for each category\n",
    "keys = list(central_count_dict.keys())\n",
    "good_counts = [entry.get('Good', 0) for entry in central_count_dict.values()]\n",
    "bad_counts = [entry.get('Bad', 0) for entry in central_count_dict.values()]\n",
    "info_counts = [entry.get('Information', 0) for entry in central_count_dict.values()]\n",
    "\n",
    "# Set the colors\n",
    "colors = ['green', 'red', 'yellow']\n",
    "\n",
    "# Create the stacked bar chart\n",
    "fig, ax = plt.subplots(figsize=(12, 6))\n",
    "\n",
    "bar_width = 0.35\n",
    "index = np.arange(len(keys))\n",
    "\n",
    "p1 = plt.bar(index, good_counts, bar_width, color=colors[0], label='Good')\n",
    "p2 = plt.bar(index, bad_counts, bar_width, color=colors[1], bottom=good_counts, label='Bad')\n",
    "p3 = plt.bar(index, info_counts, bar_width, color=colors[2], bottom=np.array(good_counts) + np.array(bad_counts), label='No Information')\n",
    "\n",
    "plt.xlabel('Signalling questions')\n",
    "plt.ylabel('Number of documents')\n",
    "plt.title('Distribution of response options (bias judgments) across signalling questions for RoBuster')\n",
    "plt.xticks(index, keys, rotation=45, fontsize=8)\n",
    "plt.legend()\n",
    "\n",
    "plt.tight_layout()\n",
    "plt.show()"
   ]
  },
  {
   "cell_type": "markdown",
   "id": "0739b204",
   "metadata": {},
   "source": [
    "## Extended statistics"
   ]
  },
  {
   "cell_type": "code",
   "execution_count": null,
   "id": "b66932ad",
   "metadata": {},
   "outputs": [],
   "source": [
    "# mean length of the annotation for each signalling question.\n",
    "\n",
    "rob_len_dict = dict()\n",
    "\n",
    "for i, (category, grouped_data) in enumerate(grouped_pdf):\n",
    "\n",
    "    gpd_sq_data = grouped_data.groupby('sq')\n",
    "    \n",
    "    for j, (sq, grouped_sq) in enumerate(gpd_sq_data):\n",
    "        rob_sq_len = len(list(grouped_sq['text']))\n",
    "        if sq not in rob_len_dict:\n",
    "            rob_len_dict[sq] = [ rob_sq_len ]\n",
    "        else:\n",
    "            rob_len_dict[sq].append( rob_sq_len )"
   ]
  },
  {
   "cell_type": "code",
   "execution_count": null,
   "id": "c1a88ffb",
   "metadata": {},
   "outputs": [],
   "source": [
    "for k,v in rob_len_dict.items():\n",
    "    #print( f'The average length of annotation for RoB {k} is: ', sum(v) / len(v) )\n",
    "    q =  \"RoB\" + str(k).replace('_', '.')\n",
    "    print(q, \",\", sum(v), \",\", sum(v) / len(v), \",\", len(v))"
   ]
  },
  {
   "cell_type": "markdown",
   "id": "5fc8c4d3",
   "metadata": {},
   "source": [
    "### Is bias higher in subjective outcomes compared to the objective/mortality outcomes?"
   ]
  },
  {
   "cell_type": "code",
   "execution_count": null,
   "id": "882549f1",
   "metadata": {},
   "outputs": [],
   "source": [
    "outcome_types_dict = {\n",
    "    'Hassett_2020_upright_Time_Hilfiker_with_Protocol': 'o',\n",
    "    'Kudos_2019_weight_Loss_Hilfiker_with_Protocol': 'o',\n",
    "    'Mills_2019_VeryLowDensityLipoProtein_Hilfiker_with_Protocol': 'o',\n",
    "    'Wyke_2019_steps_per_day_Hilfiker_with_Protocol': 'o',\n",
    "    'Thorndike_2014_mean_steps_day_Hilfiker': 'o',\n",
    "    'Dangour_2011_incidence_Pneumonia_Hilfiker_with_Protocol': 'o',\n",
    "    'Cameron_2013_Frailty_Hilfiker_with_Protocol': 'o',\n",
    "    'Taylor_2016_CPG_12months_Hilfiker_with_Protocol': 's',\n",
    "    'Myer_2018_Infant_Mortality_Hilfiker_with_Protocol': 'o',\n",
    "    'Lockman_2012_death_Hilfiker_withProtocol': 'o',\n",
    "    'Stuck_2015_allcausemortality_Hilfiker_withProtocol': 'o',\n",
    "    'Kc_2019_intrapartum-related_mortality_Hilfiker_withProtocol': 'o',\n",
    "    'Jourdain_2013_death_KM_Hilfiker_withProtocol': 'o',\n",
    "    'Gallagher_2014_Mortality_Hilfiker_withProtocol': 'o',\n",
    "    'Tanaka_2020_carotid_atherosclerosis_Hilfiker_withProtocol': 'o',\n",
    "    'Oyamo_2016_carotidArteryIMT24mo_Hilfiker_withProtocol': 'o',\n",
    "    'Zhang_2020_frequencyHIVTesting_Hilfiker_withProtocol': 'o',\n",
    "    'Li_2019_BMI_Hilfiker_with_Protocol': 'o',\n",
    "    'Mohold_2012_peakOxygenUptake_Hilfiker_withProtocol': 'o',\n",
    "    'Harris_2017_stepCount_Hilfiker_withProtocl': 'o',\n",
    "    'Hardeman_2020_activity_volume_Hilfiker_withProtocol': 'o',\n",
    "    'Garnaes_2016_GWG_Hilfiker_with_Protocol': 'o',\n",
    "    'Gajados_2010_8hWithoutOxygen_Hilfiker_withProtocol': 'o',\n",
    "    'Menant_2018_DizzinessHandicapInventory_Hilfiker_Protocol': 's',\n",
    "    'Merom_2016_PPA_Hilfiker_with_Protocol': 'o s',\n",
    "    'Nieman_2014_RPE_Hilfiker_withProtocol': 's',\n",
    "    'Perlman_2012_WOMAC_Total_8weeks_Hilfiker_with_Protocol': 's',\n",
    "    'Slater_2013_BackPainBeliefs_Hilfiker_withProtocol': 's',\n",
    "    'Lawlor_2018_ADAS-Cog12_Hilfiker_with_Protocol': 's',\n",
    "    'Barker_2019_Falls_per_PersonYear_Hilfiker_withProtocol': 's',\n",
    "    'Bjerre_2019_QoL_Hilfiker_withProtocol': 's',\n",
    "    'Or_2020_Self_Efficacy_24_weeks_with_Protocol': 's',\n",
    "    'Pasha_2013_mean_perinatal_mortality_IAA_Hilfiker_Sattelmayer_with_Protocol': 'o',\n",
    "    'Cannata-Andía_2022_Death_Rate_IAA_Hilfiker_Sattelmayer_with_Protocol': 'o',\n",
    "    'Darlow_2019_Roland_Morris_Disability_Q_sixMonths_IAA_Hilfiker_Sattelmayer_with_Protocol': 's',\n",
    "    'Lagro_2022_HealthLiveBirth_IAA_Hilfiker_Sattelmayer_with_Protocol': 'o',\n",
    "    'Osteras_2019_Patient_Reporting_Quality_of_Care_6months_IAA_Hilfiker_Sattelmayer_with_Protocol': 's',\n",
    "    'Rossetti_2020_RiskRatio_Death_sixmonths_Hilfiker_with_Protocol': 'o',\n",
    "    'Ren_2020_Mortality_at_Discharge_Hilfiker_with_Protocol': 'o',\n",
    "    'Friedli_2020_mortality_within_180days_IAA_Hilfiker_Sattelmayer_with_Protocol': 'o',\n",
    "    'Becker_2020_restriction_muscle_strength_at_3rdFollowup_up_IAA_Hilfiker_Sattelmayer_no_protocol_found': 'o',\n",
    "    'Pan_2016_VAS_Hilfiker': 'o',\n",
    "    'An_2020_VO2peak_at_6months_IAA_Hilfiker_Sattelmayer_with_Protocol': 'o',\n",
    "    'Román_2016_TUG_Hilfiker_with_Protocol': 'o',\n",
    "    'Solomons_2020_VISA_A_12months_IAA_Hilfiker_Sattelmayer_with_Protocol': 's',\n",
    "    'Stoerkel_2018_Anxiety_Follow_up_Hilfiker_with_Protocol': 's',\n",
    "    'Tagalidou_2019_Coping_Humour_Scale_Hilfiker_with_Protocol': 's',\n",
    "    'Xu_2018_KSS_Hilfiker_No_Protocol': 's',\n",
    "    'Raeissadat_2020_VAS_Pain_12month_Hilfiker_with_Protocol': 's',\n",
    "    'Remsik_2019_stroke_impact_scale_follow_up_Hilfiker_with_Protocol': 's',\n",
    "    'Eskilsson_2017_Burnout_T2_Hilfiker_with_Protocol': 's',\n",
    "    'Ahmadi_2018_Craving_Score_Day_5_Hilfiker_with_Protocol': 's',\n",
    "    'Jacobsen_2020_pain_timepoint3_Hilfiker_with_Protocol': 'o',\n",
    "    'Bai_2020_GAD_7_at_3monts_IAA_Hilfiker_Sattelmayer_with_Protocol': 's',\n",
    "    'Bierre_2019_BMD_Hilfiker_with_Protocol': 'o',\n",
    "    'Liu_2018_SPPB_Hilfiker_with_Protocol': 'o',\n",
    "    'Rodrigo-Claverol_2019_WOMAC_Post_Hilfiker_No_Protocol': 's',\n",
    "    'Gleason_2015_3ms_48months_with_protocol': 's',\n",
    "    'Merom_2016_falls_with_protocol': 'o',\n",
    "    'lombard_2016_weigth_change_Hilfiker_with_protocol': 'o'\n",
    "}"
   ]
  },
  {
   "cell_type": "code",
   "execution_count": null,
   "id": "1611451a",
   "metadata": {},
   "outputs": [],
   "source": [
    "subjective_judgments = []\n",
    "objective_judgments = []\n",
    "\n",
    "for i, (category, grouped_data) in enumerate(grouped_pdf):\n",
    "    if category in outcome_types_dict:\n",
    "        out_type = outcome_types_dict[category]\n",
    "        if 's' in out_type:\n",
    "            print(grouped_data['judgment'])\n",
    "        elif 'o' in out_type:\n",
    "            print('')"
   ]
  },
  {
   "cell_type": "code",
   "execution_count": null,
   "id": "b9aff94b",
   "metadata": {},
   "outputs": [],
   "source": []
  },
  {
   "cell_type": "code",
   "execution_count": null,
   "id": "ee5a1ef4",
   "metadata": {},
   "outputs": [],
   "source": []
  },
  {
   "cell_type": "code",
   "execution_count": null,
   "id": "7abe2845",
   "metadata": {},
   "outputs": [],
   "source": []
  },
  {
   "cell_type": "code",
   "execution_count": null,
   "id": "b576571b",
   "metadata": {},
   "outputs": [],
   "source": []
  }
 ],
 "metadata": {
  "kernelspec": {
   "display_name": "Python 3 (ipykernel)",
   "language": "python",
   "name": "python3"
  },
  "language_info": {
   "codemirror_mode": {
    "name": "ipython",
    "version": 3
   },
   "file_extension": ".py",
   "mimetype": "text/x-python",
   "name": "python",
   "nbconvert_exporter": "python",
   "pygments_lexer": "ipython3",
   "version": "3.8.10"
  }
 },
 "nbformat": 4,
 "nbformat_minor": 5
}
